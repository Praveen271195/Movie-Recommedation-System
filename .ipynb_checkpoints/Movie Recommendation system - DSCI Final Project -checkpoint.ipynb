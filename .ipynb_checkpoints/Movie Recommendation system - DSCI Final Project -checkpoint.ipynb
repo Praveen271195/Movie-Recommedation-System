{
 "cells": [
  {
   "cell_type": "code",
   "execution_count": 114,
   "metadata": {},
   "outputs": [],
   "source": [
    "# Libraries for data file processing \n",
    "import os\n",
    "\n",
    "# Essential librarires\n",
    "import pandas as pd\n",
    "import numpy as np\n",
    "import seaborn as sns\n",
    "import matplotlib.pyplot as plt"
   ]
  },
  {
   "cell_type": "markdown",
   "metadata": {},
   "source": [
    "## Data Preprocessing"
   ]
  },
  {
   "cell_type": "markdown",
   "metadata": {},
   "source": [
    "**Summary:**\n",
    "These files contain 1,000,209 anonymous ratings of approximately 3,900 movies \n",
    "made by 6,040 MovieLens users who joined MovieLens in 2000."
   ]
  },
  {
   "cell_type": "code",
   "execution_count": 115,
   "metadata": {},
   "outputs": [
    {
     "name": "stdout",
     "output_type": "stream",
     "text": [
      "Loading..  1000209\n"
     ]
    }
   ],
   "source": [
    "# DAT file declaration - Ratings data \n",
    "rating_dat_file = 'ratings.dat'\n",
    "\n",
    "# Read the Ratings File\n",
    "ratings_data = pd.read_csv(os.path.join(\"dat_files\", rating_dat_file), sep='::', engine='python', encoding='latin-1',\n",
    "                    names=['user_id', 'movie_id', 'rating', 'timestamp'])\n",
    "\n",
    "print(\"Loading.. \", len(ratings_data))"
   ]
  },
  {
   "cell_type": "code",
   "execution_count": 116,
   "metadata": {},
   "outputs": [
    {
     "name": "stdout",
     "output_type": "stream",
     "text": [
      "Loading..  3883\n"
     ]
    }
   ],
   "source": [
    "# DAT file declaration - Movies data \n",
    "movies_dat_file = 'movies.dat'\n",
    "\n",
    "# Read the Movies File\n",
    "movies_data = pd.read_csv(os.path.join(\"dat_files\", movies_dat_file), sep='::', engine='python', encoding='latin-1',\n",
    "                    names=[\"movie_id\", \"title\", \"genres\"])\n",
    "\n",
    "print(\"Loading.. \", len(movies_data))"
   ]
  },
  {
   "cell_type": "code",
   "execution_count": 117,
   "metadata": {},
   "outputs": [
    {
     "name": "stdout",
     "output_type": "stream",
     "text": [
      "Loading..  6040\n",
      "\n",
      "Current Users dataframe that is numerically encoded: \n"
     ]
    },
    {
     "data": {
      "text/html": [
       "<div>\n",
       "<style scoped>\n",
       "    .dataframe tbody tr th:only-of-type {\n",
       "        vertical-align: middle;\n",
       "    }\n",
       "\n",
       "    .dataframe tbody tr th {\n",
       "        vertical-align: top;\n",
       "    }\n",
       "\n",
       "    .dataframe thead th {\n",
       "        text-align: right;\n",
       "    }\n",
       "</style>\n",
       "<table border=\"1\" class=\"dataframe\">\n",
       "  <thead>\n",
       "    <tr style=\"text-align: right;\">\n",
       "      <th></th>\n",
       "      <th>user_id</th>\n",
       "      <th>gender</th>\n",
       "      <th>age</th>\n",
       "      <th>occupation</th>\n",
       "      <th>zipcode</th>\n",
       "    </tr>\n",
       "  </thead>\n",
       "  <tbody>\n",
       "    <tr>\n",
       "      <th>0</th>\n",
       "      <td>1</td>\n",
       "      <td>F</td>\n",
       "      <td>1</td>\n",
       "      <td>10</td>\n",
       "      <td>48067</td>\n",
       "    </tr>\n",
       "    <tr>\n",
       "      <th>1</th>\n",
       "      <td>2</td>\n",
       "      <td>M</td>\n",
       "      <td>56</td>\n",
       "      <td>16</td>\n",
       "      <td>70072</td>\n",
       "    </tr>\n",
       "    <tr>\n",
       "      <th>2</th>\n",
       "      <td>3</td>\n",
       "      <td>M</td>\n",
       "      <td>25</td>\n",
       "      <td>15</td>\n",
       "      <td>55117</td>\n",
       "    </tr>\n",
       "    <tr>\n",
       "      <th>3</th>\n",
       "      <td>4</td>\n",
       "      <td>M</td>\n",
       "      <td>45</td>\n",
       "      <td>7</td>\n",
       "      <td>02460</td>\n",
       "    </tr>\n",
       "    <tr>\n",
       "      <th>4</th>\n",
       "      <td>5</td>\n",
       "      <td>M</td>\n",
       "      <td>25</td>\n",
       "      <td>20</td>\n",
       "      <td>55455</td>\n",
       "    </tr>\n",
       "  </tbody>\n",
       "</table>\n",
       "</div>"
      ],
      "text/plain": [
       "   user_id gender  age  occupation zipcode\n",
       "0        1      F    1          10   48067\n",
       "1        2      M   56          16   70072\n",
       "2        3      M   25          15   55117\n",
       "3        4      M   45           7   02460\n",
       "4        5      M   25          20   55455"
      ]
     },
     "execution_count": 117,
     "metadata": {},
     "output_type": "execute_result"
    }
   ],
   "source": [
    "# DAT file declaration - Users data \n",
    "users_dat_file = 'users.dat'\n",
    "\n",
    "# Read the Users File\n",
    "users_data = pd.read_csv(os.path.join(\"dat_files\", users_dat_file), sep='::', engine='python', encoding='latin-1',\n",
    "                    names=[\"user_id\", \"gender\", \"age\", \"occupation\", \"zipcode\"])\n",
    "\n",
    "print(\"Loading.. \", len(users_data))\n",
    "print()\n",
    "# Displaying the dataset\n",
    "print(\"Current Users dataframe that is numerically encoded: \")\n",
    "users_data.head()"
   ]
  },
  {
   "cell_type": "markdown",
   "metadata": {},
   "source": [
    "It can be seen from the above users dataframe that the occupation feature is numericaly encoded and the age is categorized as mentioned below:\n",
    "\n",
    "- Age is chosen from the following ranges:\n",
    "\n",
    "\t*  1:  \"Under 18\"\n",
    "\t* 18:  \"18-24\"\n",
    "\t* 25:  \"25-34\"\n",
    "\t* 35:  \"35-44\"\n",
    "\t* 45:  \"45-49\"\n",
    "\t* 50:  \"50-55\"\n",
    "\t* 56:  \"56+\"\n",
    "- Occupation is chosen from the following choices:\n",
    "\n",
    "\t*  0:  \"other\" or not specified\n",
    "\t*  1:  \"academic/educator\"\n",
    "\t*  2:  \"artist\"\n",
    "\t*  3:  \"clerical/admin\"\n",
    "\t*  4:  \"college/grad student\"\n",
    "\t*  5:  \"customer service\"\n",
    "\t*  6:  \"doctor/health care\"\n",
    "\t*  7:  \"executive/managerial\"\n",
    "\t*  8:  \"farmer\"\n",
    "\t*  9:  \"homemaker\"\n",
    "\t* 10:  \"K-12 student\"\n",
    "\t* 11:  \"lawyer\"\n",
    "\t* 12:  \"programmer\"\n",
    "\t* 13:  \"retired\"\n",
    "\t* 14:  \"sales/marketing\"\n",
    "\t* 15:  \"scientist\"\n",
    "\t* 16:  \"self-employed\"\n",
    "\t* 17:  \"technician/engineer\"\n",
    "\t* 18:  \"tradesman/craftsman\"\n",
    "\t* 19:  \"unemployed\"\n",
    "\t* 20:  \"writer\""
   ]
  },
  {
   "cell_type": "code",
   "execution_count": 118,
   "metadata": {},
   "outputs": [
    {
     "name": "stdout",
     "output_type": "stream",
     "text": [
      "Processed dataframe: \n"
     ]
    },
    {
     "data": {
      "text/html": [
       "<div>\n",
       "<style scoped>\n",
       "    .dataframe tbody tr th:only-of-type {\n",
       "        vertical-align: middle;\n",
       "    }\n",
       "\n",
       "    .dataframe tbody tr th {\n",
       "        vertical-align: top;\n",
       "    }\n",
       "\n",
       "    .dataframe thead th {\n",
       "        text-align: right;\n",
       "    }\n",
       "</style>\n",
       "<table border=\"1\" class=\"dataframe\">\n",
       "  <thead>\n",
       "    <tr style=\"text-align: right;\">\n",
       "      <th></th>\n",
       "      <th>user_id</th>\n",
       "      <th>gender</th>\n",
       "      <th>age</th>\n",
       "      <th>occupation</th>\n",
       "      <th>zipcode</th>\n",
       "      <th>age_group</th>\n",
       "    </tr>\n",
       "  </thead>\n",
       "  <tbody>\n",
       "    <tr>\n",
       "      <th>0</th>\n",
       "      <td>1</td>\n",
       "      <td>F</td>\n",
       "      <td>1</td>\n",
       "      <td>K-12 student</td>\n",
       "      <td>48067</td>\n",
       "      <td>Under 18</td>\n",
       "    </tr>\n",
       "    <tr>\n",
       "      <th>1</th>\n",
       "      <td>2</td>\n",
       "      <td>M</td>\n",
       "      <td>56</td>\n",
       "      <td>self-employed</td>\n",
       "      <td>70072</td>\n",
       "      <td>56+</td>\n",
       "    </tr>\n",
       "    <tr>\n",
       "      <th>2</th>\n",
       "      <td>3</td>\n",
       "      <td>M</td>\n",
       "      <td>25</td>\n",
       "      <td>scientist</td>\n",
       "      <td>55117</td>\n",
       "      <td>25-34</td>\n",
       "    </tr>\n",
       "    <tr>\n",
       "      <th>3</th>\n",
       "      <td>4</td>\n",
       "      <td>M</td>\n",
       "      <td>45</td>\n",
       "      <td>executive/managerial</td>\n",
       "      <td>02460</td>\n",
       "      <td>45-49</td>\n",
       "    </tr>\n",
       "    <tr>\n",
       "      <th>4</th>\n",
       "      <td>5</td>\n",
       "      <td>M</td>\n",
       "      <td>25</td>\n",
       "      <td>writer</td>\n",
       "      <td>55455</td>\n",
       "      <td>25-34</td>\n",
       "    </tr>\n",
       "  </tbody>\n",
       "</table>\n",
       "</div>"
      ],
      "text/plain": [
       "   user_id gender  age            occupation zipcode age_group\n",
       "0        1      F    1          K-12 student   48067  Under 18\n",
       "1        2      M   56         self-employed   70072       56+\n",
       "2        3      M   25             scientist   55117     25-34\n",
       "3        4      M   45  executive/managerial   02460     45-49\n",
       "4        5      M   25                writer   55455     25-34"
      ]
     },
     "execution_count": 118,
     "metadata": {},
     "output_type": "execute_result"
    }
   ],
   "source": [
    "# Categorizing the age and occupation columns based on the information provided above, dictinary data structure is used \n",
    "# for key value pairs\n",
    "age_category = { 1: \"Under 18\", \n",
    "                18: \"18-24\", \n",
    "                25: \"25-34\", \n",
    "                35: \"35-44\", \n",
    "                45: \"45-49\", \n",
    "                50: \"50-55\", \n",
    "                56: \"56+\"}\n",
    "\n",
    "occupation_category = {0: \"other or not specified\",\n",
    "                       1: \"academic/educator\",\n",
    "                       2: \"artist\", \n",
    "                       3: \"clerical/admin\",\n",
    "                       4: \"college/grad student\", \n",
    "                       5: \"customer service\", \n",
    "                       6: \"doctor/health care\",\n",
    "                       7: \"executive/managerial\", \n",
    "                       8: \"farmer\", \n",
    "                       9: \"homemaker\", \n",
    "                       10: \"K-12 student\", \n",
    "                       11: \"lawyer\",\n",
    "                       12: \"programmer\", \n",
    "                       13: \"retired\", \n",
    "                       14: \"sales/marketing\", \n",
    "                       15: \"scientist\", \n",
    "                       16: \"self-employed\",\n",
    "                       17: \"technician/engineer\", \n",
    "                       18: \"tradesman/craftsman\", \n",
    "                       19: \"unemployed\", \n",
    "                       20: \"writer\"}\n",
    "\n",
    "# Creating new cloumns with updated values/category info using lambda function on each datapoint for both features\n",
    "users_data['age_group'] = users_data['age'].apply(lambda x: age_category[x])\n",
    "users_data['occupation'] = users_data['occupation'].apply(lambda x: occupation_category[x])\n",
    "\n",
    "# Resultant dataframe \n",
    "print(\"Processed dataframe: \")\n",
    "users_data.head()"
   ]
  },
  {
   "cell_type": "markdown",
   "metadata": {},
   "source": [
    "#### Saving data into respective csv files"
   ]
  },
  {
   "cell_type": "code",
   "execution_count": 119,
   "metadata": {},
   "outputs": [
    {
     "name": "stdout",
     "output_type": "stream",
     "text": [
      "rating_data.csv saved in directory\n"
     ]
    }
   ],
   "source": [
    "# Creating a csv file to save rating.csv\n",
    "ratings_data.to_csv(\"ratings_data.csv\", sep='\\t', header=True, encoding='latin-1', \n",
    "               columns=['user_id', 'movie_id', 'rating', 'timestamp'])\n",
    "\n",
    "print(\"rating_data.csv saved in directory..\")"
   ]
  },
  {
   "cell_type": "code",
   "execution_count": 120,
   "metadata": {},
   "outputs": [
    {
     "name": "stdout",
     "output_type": "stream",
     "text": [
      "movies_data.csv saved in directory\n"
     ]
    }
   ],
   "source": [
    "# Creating a csv file to save movies.csv\n",
    "movies_data.to_csv(\"movies_data.csv\", sep='\\t', header=True, encoding='latin-1', \n",
    "               columns=[\"movie_id\", \"title\", \"genres\"])\n",
    "\n",
    "print(\"movies_data.csv saved in directory..\")"
   ]
  },
  {
   "cell_type": "code",
   "execution_count": 121,
   "metadata": {},
   "outputs": [
    {
     "name": "stdout",
     "output_type": "stream",
     "text": [
      "users_data.csv saved in directory\n"
     ]
    }
   ],
   "source": [
    "# Creating a csv file to save users.csv\n",
    "users_data.to_csv(\"users_data.csv\", sep='\\t', header=True, encoding='latin-1', \n",
    "               columns=[\"user_id\", \"gender\", \"age\", \"occupation\", \"zipcode\"])\n",
    "\n",
    "print(\"users_data.csv saved in directory..\")"
   ]
  },
  {
   "cell_type": "code",
   "execution_count": null,
   "metadata": {},
   "outputs": [],
   "source": []
  }
 ],
 "metadata": {
  "kernelspec": {
   "display_name": "Python 3",
   "language": "python",
   "name": "python3"
  },
  "language_info": {
   "codemirror_mode": {
    "name": "ipython",
    "version": 3
   },
   "file_extension": ".py",
   "mimetype": "text/x-python",
   "name": "python",
   "nbconvert_exporter": "python",
   "pygments_lexer": "ipython3",
   "version": "3.7.6"
  }
 },
 "nbformat": 4,
 "nbformat_minor": 4
}
